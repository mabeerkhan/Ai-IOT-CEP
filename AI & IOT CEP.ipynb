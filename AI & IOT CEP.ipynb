{
 "cells": [
  {
   "cell_type": "code",
   "execution_count": 59,
   "id": "f57c348d",
   "metadata": {},
   "outputs": [],
   "source": [
    "import numpy as np\n",
    "import pandas as pd\n",
    "import sklearn as sk\n",
    "from matplotlib import pyplot as plt"
   ]
  },
  {
   "cell_type": "code",
   "execution_count": 60,
   "id": "b2ae218f",
   "metadata": {
    "scrolled": false
   },
   "outputs": [
    {
     "data": {
      "text/html": [
       "<div>\n",
       "<style scoped>\n",
       "    .dataframe tbody tr th:only-of-type {\n",
       "        vertical-align: middle;\n",
       "    }\n",
       "\n",
       "    .dataframe tbody tr th {\n",
       "        vertical-align: top;\n",
       "    }\n",
       "\n",
       "    .dataframe thead th {\n",
       "        text-align: right;\n",
       "    }\n",
       "</style>\n",
       "<table border=\"1\" class=\"dataframe\">\n",
       "  <thead>\n",
       "    <tr style=\"text-align: right;\">\n",
       "      <th></th>\n",
       "      <th>Make</th>\n",
       "      <th>Model</th>\n",
       "      <th>Vehicle Class</th>\n",
       "      <th>Engine Size(L)</th>\n",
       "      <th>Cylinders</th>\n",
       "      <th>Transmission</th>\n",
       "      <th>Fuel Type</th>\n",
       "      <th>Fuel Consumption City (L/100 km)</th>\n",
       "      <th>Fuel Consumption Hwy (L/100 km)</th>\n",
       "      <th>Fuel Consumption Comb (L/100 km)</th>\n",
       "      <th>Fuel Consumption Comb (mpg)</th>\n",
       "      <th>CO2 Emissions(g/km)</th>\n",
       "    </tr>\n",
       "  </thead>\n",
       "  <tbody>\n",
       "    <tr>\n",
       "      <th>0</th>\n",
       "      <td>ACURA</td>\n",
       "      <td>ILX</td>\n",
       "      <td>COMPACT</td>\n",
       "      <td>2.0</td>\n",
       "      <td>4</td>\n",
       "      <td>AS5</td>\n",
       "      <td>Z</td>\n",
       "      <td>9.9</td>\n",
       "      <td>6.7</td>\n",
       "      <td>8.5</td>\n",
       "      <td>33</td>\n",
       "      <td>196</td>\n",
       "    </tr>\n",
       "    <tr>\n",
       "      <th>1</th>\n",
       "      <td>ACURA</td>\n",
       "      <td>ILX</td>\n",
       "      <td>COMPACT</td>\n",
       "      <td>2.4</td>\n",
       "      <td>4</td>\n",
       "      <td>M6</td>\n",
       "      <td>Z</td>\n",
       "      <td>11.2</td>\n",
       "      <td>7.7</td>\n",
       "      <td>9.6</td>\n",
       "      <td>29</td>\n",
       "      <td>221</td>\n",
       "    </tr>\n",
       "    <tr>\n",
       "      <th>2</th>\n",
       "      <td>ACURA</td>\n",
       "      <td>ILX HYBRID</td>\n",
       "      <td>COMPACT</td>\n",
       "      <td>1.5</td>\n",
       "      <td>4</td>\n",
       "      <td>AV7</td>\n",
       "      <td>Z</td>\n",
       "      <td>6.0</td>\n",
       "      <td>5.8</td>\n",
       "      <td>5.9</td>\n",
       "      <td>48</td>\n",
       "      <td>136</td>\n",
       "    </tr>\n",
       "    <tr>\n",
       "      <th>3</th>\n",
       "      <td>ACURA</td>\n",
       "      <td>MDX 4WD</td>\n",
       "      <td>SUV - SMALL</td>\n",
       "      <td>3.5</td>\n",
       "      <td>6</td>\n",
       "      <td>AS6</td>\n",
       "      <td>Z</td>\n",
       "      <td>12.7</td>\n",
       "      <td>9.1</td>\n",
       "      <td>11.1</td>\n",
       "      <td>25</td>\n",
       "      <td>255</td>\n",
       "    </tr>\n",
       "    <tr>\n",
       "      <th>4</th>\n",
       "      <td>ACURA</td>\n",
       "      <td>RDX AWD</td>\n",
       "      <td>SUV - SMALL</td>\n",
       "      <td>3.5</td>\n",
       "      <td>6</td>\n",
       "      <td>AS6</td>\n",
       "      <td>Z</td>\n",
       "      <td>12.1</td>\n",
       "      <td>8.7</td>\n",
       "      <td>10.6</td>\n",
       "      <td>27</td>\n",
       "      <td>244</td>\n",
       "    </tr>\n",
       "  </tbody>\n",
       "</table>\n",
       "</div>"
      ],
      "text/plain": [
       "    Make       Model Vehicle Class  Engine Size(L)  Cylinders Transmission  \\\n",
       "0  ACURA         ILX       COMPACT             2.0          4          AS5   \n",
       "1  ACURA         ILX       COMPACT             2.4          4           M6   \n",
       "2  ACURA  ILX HYBRID       COMPACT             1.5          4          AV7   \n",
       "3  ACURA     MDX 4WD   SUV - SMALL             3.5          6          AS6   \n",
       "4  ACURA     RDX AWD   SUV - SMALL             3.5          6          AS6   \n",
       "\n",
       "  Fuel Type  Fuel Consumption City (L/100 km)  \\\n",
       "0         Z                               9.9   \n",
       "1         Z                              11.2   \n",
       "2         Z                               6.0   \n",
       "3         Z                              12.7   \n",
       "4         Z                              12.1   \n",
       "\n",
       "   Fuel Consumption Hwy (L/100 km)  Fuel Consumption Comb (L/100 km)  \\\n",
       "0                              6.7                               8.5   \n",
       "1                              7.7                               9.6   \n",
       "2                              5.8                               5.9   \n",
       "3                              9.1                              11.1   \n",
       "4                              8.7                              10.6   \n",
       "\n",
       "   Fuel Consumption Comb (mpg)  CO2 Emissions(g/km)  \n",
       "0                           33                  196  \n",
       "1                           29                  221  \n",
       "2                           48                  136  \n",
       "3                           25                  255  \n",
       "4                           27                  244  "
      ]
     },
     "execution_count": 60,
     "metadata": {},
     "output_type": "execute_result"
    }
   ],
   "source": [
    "f=pd.read_csv(r\"C:\\Users\\osama\\Downloads\\AI & IOT ASSIGNMENT FINAL\\CO2 Emissions_Canada.csv\")\n",
    "#specified number of rows, string from the top IF NOT DEFINED FIRST 5 TAKEN\n",
    "f.head()\n"
   ]
  },
  {
   "cell_type": "code",
   "execution_count": 61,
   "id": "a429f5c1",
   "metadata": {},
   "outputs": [
    {
     "data": {
      "text/plain": [
       "(7385, 12)"
      ]
     },
     "execution_count": 61,
     "metadata": {},
     "output_type": "execute_result"
    }
   ],
   "source": [
    "#Tells us the dimension the number of rows and columns(Rows,columns)\n",
    "f.shape"
   ]
  },
  {
   "cell_type": "code",
   "execution_count": 62,
   "id": "d2aa9c61",
   "metadata": {},
   "outputs": [
    {
     "data": {
      "text/plain": [
       "Index(['Make', 'Model', 'Vehicle Class', 'Engine Size(L)', 'Cylinders',\n",
       "       'Transmission', 'Fuel Type', 'Fuel Consumption City (L/100 km)',\n",
       "       'Fuel Consumption Hwy (L/100 km)', 'Fuel Consumption Comb (L/100 km)',\n",
       "       'Fuel Consumption Comb (mpg)', 'CO2 Emissions(g/km)'],\n",
       "      dtype='object')"
      ]
     },
     "execution_count": 62,
     "metadata": {},
     "output_type": "execute_result"
    }
   ],
   "source": [
    "#Identifying the total columns and their names \n",
    "f.columns"
   ]
  },
  {
   "cell_type": "code",
   "execution_count": 63,
   "id": "2a982891",
   "metadata": {},
   "outputs": [
    {
     "data": {
      "text/html": [
       "<div>\n",
       "<style scoped>\n",
       "    .dataframe tbody tr th:only-of-type {\n",
       "        vertical-align: middle;\n",
       "    }\n",
       "\n",
       "    .dataframe tbody tr th {\n",
       "        vertical-align: top;\n",
       "    }\n",
       "\n",
       "    .dataframe thead th {\n",
       "        text-align: right;\n",
       "    }\n",
       "</style>\n",
       "<table border=\"1\" class=\"dataframe\">\n",
       "  <thead>\n",
       "    <tr style=\"text-align: right;\">\n",
       "      <th></th>\n",
       "      <th>Engine Size(L)</th>\n",
       "      <th>Cylinders</th>\n",
       "      <th>Fuel Consumption City (L/100 km)</th>\n",
       "      <th>Fuel Consumption Hwy (L/100 km)</th>\n",
       "      <th>Fuel Consumption Comb (L/100 km)</th>\n",
       "      <th>Fuel Consumption Comb (mpg)</th>\n",
       "      <th>CO2 Emissions(g/km)</th>\n",
       "    </tr>\n",
       "  </thead>\n",
       "  <tbody>\n",
       "    <tr>\n",
       "      <th>count</th>\n",
       "      <td>7385.000000</td>\n",
       "      <td>7385.000000</td>\n",
       "      <td>7385.000000</td>\n",
       "      <td>7385.000000</td>\n",
       "      <td>7385.000000</td>\n",
       "      <td>7385.000000</td>\n",
       "      <td>7385.000000</td>\n",
       "    </tr>\n",
       "    <tr>\n",
       "      <th>mean</th>\n",
       "      <td>3.160068</td>\n",
       "      <td>5.615030</td>\n",
       "      <td>12.556534</td>\n",
       "      <td>9.041706</td>\n",
       "      <td>10.975071</td>\n",
       "      <td>27.481652</td>\n",
       "      <td>250.584699</td>\n",
       "    </tr>\n",
       "    <tr>\n",
       "      <th>std</th>\n",
       "      <td>1.354170</td>\n",
       "      <td>1.828307</td>\n",
       "      <td>3.500274</td>\n",
       "      <td>2.224456</td>\n",
       "      <td>2.892506</td>\n",
       "      <td>7.231879</td>\n",
       "      <td>58.512679</td>\n",
       "    </tr>\n",
       "    <tr>\n",
       "      <th>min</th>\n",
       "      <td>0.900000</td>\n",
       "      <td>3.000000</td>\n",
       "      <td>4.200000</td>\n",
       "      <td>4.000000</td>\n",
       "      <td>4.100000</td>\n",
       "      <td>11.000000</td>\n",
       "      <td>96.000000</td>\n",
       "    </tr>\n",
       "    <tr>\n",
       "      <th>25%</th>\n",
       "      <td>2.000000</td>\n",
       "      <td>4.000000</td>\n",
       "      <td>10.100000</td>\n",
       "      <td>7.500000</td>\n",
       "      <td>8.900000</td>\n",
       "      <td>22.000000</td>\n",
       "      <td>208.000000</td>\n",
       "    </tr>\n",
       "    <tr>\n",
       "      <th>50%</th>\n",
       "      <td>3.000000</td>\n",
       "      <td>6.000000</td>\n",
       "      <td>12.100000</td>\n",
       "      <td>8.700000</td>\n",
       "      <td>10.600000</td>\n",
       "      <td>27.000000</td>\n",
       "      <td>246.000000</td>\n",
       "    </tr>\n",
       "    <tr>\n",
       "      <th>75%</th>\n",
       "      <td>3.700000</td>\n",
       "      <td>6.000000</td>\n",
       "      <td>14.600000</td>\n",
       "      <td>10.200000</td>\n",
       "      <td>12.600000</td>\n",
       "      <td>32.000000</td>\n",
       "      <td>288.000000</td>\n",
       "    </tr>\n",
       "    <tr>\n",
       "      <th>max</th>\n",
       "      <td>8.400000</td>\n",
       "      <td>16.000000</td>\n",
       "      <td>30.600000</td>\n",
       "      <td>20.600000</td>\n",
       "      <td>26.100000</td>\n",
       "      <td>69.000000</td>\n",
       "      <td>522.000000</td>\n",
       "    </tr>\n",
       "  </tbody>\n",
       "</table>\n",
       "</div>"
      ],
      "text/plain": [
       "       Engine Size(L)    Cylinders  Fuel Consumption City (L/100 km)  \\\n",
       "count     7385.000000  7385.000000                       7385.000000   \n",
       "mean         3.160068     5.615030                         12.556534   \n",
       "std          1.354170     1.828307                          3.500274   \n",
       "min          0.900000     3.000000                          4.200000   \n",
       "25%          2.000000     4.000000                         10.100000   \n",
       "50%          3.000000     6.000000                         12.100000   \n",
       "75%          3.700000     6.000000                         14.600000   \n",
       "max          8.400000    16.000000                         30.600000   \n",
       "\n",
       "       Fuel Consumption Hwy (L/100 km)  Fuel Consumption Comb (L/100 km)  \\\n",
       "count                      7385.000000                       7385.000000   \n",
       "mean                          9.041706                         10.975071   \n",
       "std                           2.224456                          2.892506   \n",
       "min                           4.000000                          4.100000   \n",
       "25%                           7.500000                          8.900000   \n",
       "50%                           8.700000                         10.600000   \n",
       "75%                          10.200000                         12.600000   \n",
       "max                          20.600000                         26.100000   \n",
       "\n",
       "       Fuel Consumption Comb (mpg)  CO2 Emissions(g/km)  \n",
       "count                  7385.000000          7385.000000  \n",
       "mean                     27.481652           250.584699  \n",
       "std                       7.231879            58.512679  \n",
       "min                      11.000000            96.000000  \n",
       "25%                      22.000000           208.000000  \n",
       "50%                      27.000000           246.000000  \n",
       "75%                      32.000000           288.000000  \n",
       "max                      69.000000           522.000000  "
      ]
     },
     "execution_count": 63,
     "metadata": {},
     "output_type": "execute_result"
    }
   ],
   "source": [
    "#Description of the data in the DataFrame\n",
    "f.describe()"
   ]
  },
  {
   "cell_type": "code",
   "execution_count": 64,
   "id": "fa69d345",
   "metadata": {},
   "outputs": [
    {
     "data": {
      "text/html": [
       "<div>\n",
       "<style scoped>\n",
       "    .dataframe tbody tr th:only-of-type {\n",
       "        vertical-align: middle;\n",
       "    }\n",
       "\n",
       "    .dataframe tbody tr th {\n",
       "        vertical-align: top;\n",
       "    }\n",
       "\n",
       "    .dataframe thead th {\n",
       "        text-align: right;\n",
       "    }\n",
       "</style>\n",
       "<table border=\"1\" class=\"dataframe\">\n",
       "  <thead>\n",
       "    <tr style=\"text-align: right;\">\n",
       "      <th></th>\n",
       "      <th>Engine Size(L)</th>\n",
       "      <th>Cylinders</th>\n",
       "      <th>Fuel Type</th>\n",
       "      <th>Fuel Consumption City (L/100 km)</th>\n",
       "      <th>Fuel Consumption Hwy (L/100 km)</th>\n",
       "      <th>Fuel Consumption Comb (L/100 km)</th>\n",
       "      <th>CO2 Emissions(g/km)</th>\n",
       "    </tr>\n",
       "  </thead>\n",
       "  <tbody>\n",
       "    <tr>\n",
       "      <th>0</th>\n",
       "      <td>2.0</td>\n",
       "      <td>4</td>\n",
       "      <td>Z</td>\n",
       "      <td>9.9</td>\n",
       "      <td>6.7</td>\n",
       "      <td>8.5</td>\n",
       "      <td>196</td>\n",
       "    </tr>\n",
       "    <tr>\n",
       "      <th>1</th>\n",
       "      <td>2.4</td>\n",
       "      <td>4</td>\n",
       "      <td>Z</td>\n",
       "      <td>11.2</td>\n",
       "      <td>7.7</td>\n",
       "      <td>9.6</td>\n",
       "      <td>221</td>\n",
       "    </tr>\n",
       "    <tr>\n",
       "      <th>2</th>\n",
       "      <td>1.5</td>\n",
       "      <td>4</td>\n",
       "      <td>Z</td>\n",
       "      <td>6.0</td>\n",
       "      <td>5.8</td>\n",
       "      <td>5.9</td>\n",
       "      <td>136</td>\n",
       "    </tr>\n",
       "    <tr>\n",
       "      <th>3</th>\n",
       "      <td>3.5</td>\n",
       "      <td>6</td>\n",
       "      <td>Z</td>\n",
       "      <td>12.7</td>\n",
       "      <td>9.1</td>\n",
       "      <td>11.1</td>\n",
       "      <td>255</td>\n",
       "    </tr>\n",
       "    <tr>\n",
       "      <th>4</th>\n",
       "      <td>3.5</td>\n",
       "      <td>6</td>\n",
       "      <td>Z</td>\n",
       "      <td>12.1</td>\n",
       "      <td>8.7</td>\n",
       "      <td>10.6</td>\n",
       "      <td>244</td>\n",
       "    </tr>\n",
       "  </tbody>\n",
       "</table>\n",
       "</div>"
      ],
      "text/plain": [
       "   Engine Size(L)  Cylinders Fuel Type  Fuel Consumption City (L/100 km)  \\\n",
       "0             2.0          4         Z                               9.9   \n",
       "1             2.4          4         Z                              11.2   \n",
       "2             1.5          4         Z                               6.0   \n",
       "3             3.5          6         Z                              12.7   \n",
       "4             3.5          6         Z                              12.1   \n",
       "\n",
       "   Fuel Consumption Hwy (L/100 km)  Fuel Consumption Comb (L/100 km)  \\\n",
       "0                              6.7                               8.5   \n",
       "1                              7.7                               9.6   \n",
       "2                              5.8                               5.9   \n",
       "3                              9.1                              11.1   \n",
       "4                              8.7                              10.6   \n",
       "\n",
       "   CO2 Emissions(g/km)  \n",
       "0                  196  \n",
       "1                  221  \n",
       "2                  136  \n",
       "3                  255  \n",
       "4                  244  "
      ]
     },
     "execution_count": 64,
     "metadata": {},
     "output_type": "execute_result"
    }
   ],
   "source": [
    "#DATA CLEANING IN THE EXCEL FILE\n",
    "#Dropping the columns that are deemed unnecessory \n",
    "d1=f.drop(['Make','Model','Vehicle Class','Transmission','Fuel Consumption Comb (mpg)'], axis = 1)\n",
    "d1.head()"
   ]
  },
  {
   "cell_type": "code",
   "execution_count": 65,
   "id": "d92444a3",
   "metadata": {},
   "outputs": [
    {
     "data": {
      "text/plain": [
       "Index(['Engine Size(L)', 'Cylinders', 'Fuel Type',\n",
       "       'Fuel Consumption City (L/100 km)', 'Fuel Consumption Hwy (L/100 km)',\n",
       "       'Fuel Consumption Comb (L/100 km)', 'CO2 Emissions(g/km)'],\n",
       "      dtype='object')"
      ]
     },
     "execution_count": 65,
     "metadata": {},
     "output_type": "execute_result"
    }
   ],
   "source": [
    "d1.columns"
   ]
  },
  {
   "cell_type": "code",
   "execution_count": 66,
   "id": "3a53f35c",
   "metadata": {},
   "outputs": [
    {
     "data": {
      "text/plain": [
       "Engine Size(L)                      0\n",
       "Cylinders                           0\n",
       "Fuel Type                           0\n",
       "Fuel Consumption City (L/100 km)    0\n",
       "Fuel Consumption Hwy (L/100 km)     0\n",
       "Fuel Consumption Comb (L/100 km)    0\n",
       "CO2 Emissions(g/km)                 0\n",
       "dtype: int64"
      ]
     },
     "execution_count": 66,
     "metadata": {},
     "output_type": "execute_result"
    }
   ],
   "source": [
    "# Checking for null values\n",
    "pd.isna(d1).sum()\n",
    "#As there are no null values OR nan values so no further averaging is required to fill those null or nan values"
   ]
  },
  {
   "cell_type": "code",
   "execution_count": 67,
   "id": "ac2fbe74",
   "metadata": {},
   "outputs": [
    {
     "data": {
      "text/html": [
       "<div>\n",
       "<style scoped>\n",
       "    .dataframe tbody tr th:only-of-type {\n",
       "        vertical-align: middle;\n",
       "    }\n",
       "\n",
       "    .dataframe tbody tr th {\n",
       "        vertical-align: top;\n",
       "    }\n",
       "\n",
       "    .dataframe thead th {\n",
       "        text-align: right;\n",
       "    }\n",
       "</style>\n",
       "<table border=\"1\" class=\"dataframe\">\n",
       "  <thead>\n",
       "    <tr style=\"text-align: right;\">\n",
       "      <th></th>\n",
       "      <th>Engine Size(L)</th>\n",
       "      <th>Cylinders</th>\n",
       "      <th>Fuel Type</th>\n",
       "      <th>Fuel Consumption City (L/100 km)</th>\n",
       "      <th>Fuel Consumption Hwy (L/100 km)</th>\n",
       "      <th>Fuel Consumption Comb (L/100 km)</th>\n",
       "      <th>CO2 Emissions(g/km)</th>\n",
       "    </tr>\n",
       "  </thead>\n",
       "  <tbody>\n",
       "    <tr>\n",
       "      <th>0</th>\n",
       "      <td>2.0</td>\n",
       "      <td>4</td>\n",
       "      <td>4</td>\n",
       "      <td>9.9</td>\n",
       "      <td>6.7</td>\n",
       "      <td>8.5</td>\n",
       "      <td>196</td>\n",
       "    </tr>\n",
       "    <tr>\n",
       "      <th>1</th>\n",
       "      <td>2.4</td>\n",
       "      <td>4</td>\n",
       "      <td>4</td>\n",
       "      <td>11.2</td>\n",
       "      <td>7.7</td>\n",
       "      <td>9.6</td>\n",
       "      <td>221</td>\n",
       "    </tr>\n",
       "    <tr>\n",
       "      <th>2</th>\n",
       "      <td>1.5</td>\n",
       "      <td>4</td>\n",
       "      <td>4</td>\n",
       "      <td>6.0</td>\n",
       "      <td>5.8</td>\n",
       "      <td>5.9</td>\n",
       "      <td>136</td>\n",
       "    </tr>\n",
       "    <tr>\n",
       "      <th>3</th>\n",
       "      <td>3.5</td>\n",
       "      <td>6</td>\n",
       "      <td>4</td>\n",
       "      <td>12.7</td>\n",
       "      <td>9.1</td>\n",
       "      <td>11.1</td>\n",
       "      <td>255</td>\n",
       "    </tr>\n",
       "    <tr>\n",
       "      <th>4</th>\n",
       "      <td>3.5</td>\n",
       "      <td>6</td>\n",
       "      <td>4</td>\n",
       "      <td>12.1</td>\n",
       "      <td>8.7</td>\n",
       "      <td>10.6</td>\n",
       "      <td>244</td>\n",
       "    </tr>\n",
       "  </tbody>\n",
       "</table>\n",
       "</div>"
      ],
      "text/plain": [
       "   Engine Size(L)  Cylinders  Fuel Type  Fuel Consumption City (L/100 km)  \\\n",
       "0             2.0          4          4                               9.9   \n",
       "1             2.4          4          4                              11.2   \n",
       "2             1.5          4          4                               6.0   \n",
       "3             3.5          6          4                              12.7   \n",
       "4             3.5          6          4                              12.1   \n",
       "\n",
       "   Fuel Consumption Hwy (L/100 km)  Fuel Consumption Comb (L/100 km)  \\\n",
       "0                              6.7                               8.5   \n",
       "1                              7.7                               9.6   \n",
       "2                              5.8                               5.9   \n",
       "3                              9.1                              11.1   \n",
       "4                              8.7                              10.6   \n",
       "\n",
       "   CO2 Emissions(g/km)  \n",
       "0                  196  \n",
       "1                  221  \n",
       "2                  136  \n",
       "3                  255  \n",
       "4                  244  "
      ]
     },
     "execution_count": 67,
     "metadata": {},
     "output_type": "execute_result"
    }
   ],
   "source": [
    "#Enconding the data using categorical encoding \n",
    "#Importing the label encoder from sklearn library \n",
    "from sklearn.preprocessing import LabelEncoder\n",
    "#Assigning the variable to the encoder\n",
    "le = LabelEncoder()\n",
    "#Transforing the fuel type using the label encoder\n",
    "d1[\"Fuel Type\"] = le.fit_transform(d1[\"Fuel Type\"])\n",
    "d1.head(5)"
   ]
  },
  {
   "cell_type": "code",
   "execution_count": 68,
   "id": "d4fd95a3",
   "metadata": {},
   "outputs": [
    {
     "data": {
      "text/plain": [
       "array(['D', 'E', 'N', 'X', 'Z'], dtype=object)"
      ]
     },
     "execution_count": 68,
     "metadata": {},
     "output_type": "execute_result"
    }
   ],
   "source": [
    "le.classes_"
   ]
  },
  {
   "cell_type": "code",
   "execution_count": 69,
   "id": "cd308311",
   "metadata": {},
   "outputs": [
    {
     "ename": "PermissionError",
     "evalue": "[Errno 13] Permission denied: 'C:\\\\Users\\\\osama\\\\Downloads\\\\AI & IOT ASSIGNMENT FINAL\\\\CO2 Emissions_Canada_TRANSORMED.csv'",
     "output_type": "error",
     "traceback": [
      "\u001b[1;31m---------------------------------------------------------------------------\u001b[0m",
      "\u001b[1;31mPermissionError\u001b[0m                           Traceback (most recent call last)",
      "\u001b[1;32m~\\AppData\\Local\\Temp\\ipykernel_11528\\2531755509.py\u001b[0m in \u001b[0;36m<module>\u001b[1;34m\u001b[0m\n\u001b[0;32m      1\u001b[0m \u001b[1;31m# Save the DataFrame as a CSV file\u001b[0m\u001b[1;33m\u001b[0m\u001b[1;33m\u001b[0m\u001b[0m\n\u001b[1;32m----> 2\u001b[1;33m \u001b[0md1\u001b[0m\u001b[1;33m.\u001b[0m\u001b[0mto_csv\u001b[0m\u001b[1;33m(\u001b[0m\u001b[1;34mr\"C:\\Users\\osama\\Downloads\\AI & IOT ASSIGNMENT FINAL\\CO2 Emissions_Canada_TRANSORMED.csv\"\u001b[0m\u001b[1;33m,\u001b[0m \u001b[0mindex\u001b[0m\u001b[1;33m=\u001b[0m\u001b[1;32mFalse\u001b[0m\u001b[1;33m)\u001b[0m\u001b[1;33m\u001b[0m\u001b[1;33m\u001b[0m\u001b[0m\n\u001b[0m",
      "\u001b[1;32m~\\anaconda3\\lib\\site-packages\\pandas\\core\\generic.py\u001b[0m in \u001b[0;36mto_csv\u001b[1;34m(self, path_or_buf, sep, na_rep, float_format, columns, header, index, index_label, mode, encoding, compression, quoting, quotechar, line_terminator, chunksize, date_format, doublequote, escapechar, decimal, errors, storage_options)\u001b[0m\n\u001b[0;32m   3549\u001b[0m         )\n\u001b[0;32m   3550\u001b[0m \u001b[1;33m\u001b[0m\u001b[0m\n\u001b[1;32m-> 3551\u001b[1;33m         return DataFrameRenderer(formatter).to_csv(\n\u001b[0m\u001b[0;32m   3552\u001b[0m             \u001b[0mpath_or_buf\u001b[0m\u001b[1;33m,\u001b[0m\u001b[1;33m\u001b[0m\u001b[1;33m\u001b[0m\u001b[0m\n\u001b[0;32m   3553\u001b[0m             \u001b[0mline_terminator\u001b[0m\u001b[1;33m=\u001b[0m\u001b[0mline_terminator\u001b[0m\u001b[1;33m,\u001b[0m\u001b[1;33m\u001b[0m\u001b[1;33m\u001b[0m\u001b[0m\n",
      "\u001b[1;32m~\\anaconda3\\lib\\site-packages\\pandas\\io\\formats\\format.py\u001b[0m in \u001b[0;36mto_csv\u001b[1;34m(self, path_or_buf, encoding, sep, columns, index_label, mode, compression, quoting, quotechar, line_terminator, chunksize, date_format, doublequote, escapechar, errors, storage_options)\u001b[0m\n\u001b[0;32m   1178\u001b[0m             \u001b[0mformatter\u001b[0m\u001b[1;33m=\u001b[0m\u001b[0mself\u001b[0m\u001b[1;33m.\u001b[0m\u001b[0mfmt\u001b[0m\u001b[1;33m,\u001b[0m\u001b[1;33m\u001b[0m\u001b[1;33m\u001b[0m\u001b[0m\n\u001b[0;32m   1179\u001b[0m         )\n\u001b[1;32m-> 1180\u001b[1;33m         \u001b[0mcsv_formatter\u001b[0m\u001b[1;33m.\u001b[0m\u001b[0msave\u001b[0m\u001b[1;33m(\u001b[0m\u001b[1;33m)\u001b[0m\u001b[1;33m\u001b[0m\u001b[1;33m\u001b[0m\u001b[0m\n\u001b[0m\u001b[0;32m   1181\u001b[0m \u001b[1;33m\u001b[0m\u001b[0m\n\u001b[0;32m   1182\u001b[0m         \u001b[1;32mif\u001b[0m \u001b[0mcreated_buffer\u001b[0m\u001b[1;33m:\u001b[0m\u001b[1;33m\u001b[0m\u001b[1;33m\u001b[0m\u001b[0m\n",
      "\u001b[1;32m~\\anaconda3\\lib\\site-packages\\pandas\\io\\formats\\csvs.py\u001b[0m in \u001b[0;36msave\u001b[1;34m(self)\u001b[0m\n\u001b[0;32m    239\u001b[0m         \"\"\"\n\u001b[0;32m    240\u001b[0m         \u001b[1;31m# apply compression and byte/text conversion\u001b[0m\u001b[1;33m\u001b[0m\u001b[1;33m\u001b[0m\u001b[0m\n\u001b[1;32m--> 241\u001b[1;33m         with get_handle(\n\u001b[0m\u001b[0;32m    242\u001b[0m             \u001b[0mself\u001b[0m\u001b[1;33m.\u001b[0m\u001b[0mfilepath_or_buffer\u001b[0m\u001b[1;33m,\u001b[0m\u001b[1;33m\u001b[0m\u001b[1;33m\u001b[0m\u001b[0m\n\u001b[0;32m    243\u001b[0m             \u001b[0mself\u001b[0m\u001b[1;33m.\u001b[0m\u001b[0mmode\u001b[0m\u001b[1;33m,\u001b[0m\u001b[1;33m\u001b[0m\u001b[1;33m\u001b[0m\u001b[0m\n",
      "\u001b[1;32m~\\anaconda3\\lib\\site-packages\\pandas\\io\\common.py\u001b[0m in \u001b[0;36mget_handle\u001b[1;34m(path_or_buf, mode, encoding, compression, memory_map, is_text, errors, storage_options)\u001b[0m\n\u001b[0;32m    784\u001b[0m         \u001b[1;32mif\u001b[0m \u001b[0mioargs\u001b[0m\u001b[1;33m.\u001b[0m\u001b[0mencoding\u001b[0m \u001b[1;32mand\u001b[0m \u001b[1;34m\"b\"\u001b[0m \u001b[1;32mnot\u001b[0m \u001b[1;32min\u001b[0m \u001b[0mioargs\u001b[0m\u001b[1;33m.\u001b[0m\u001b[0mmode\u001b[0m\u001b[1;33m:\u001b[0m\u001b[1;33m\u001b[0m\u001b[1;33m\u001b[0m\u001b[0m\n\u001b[0;32m    785\u001b[0m             \u001b[1;31m# Encoding\u001b[0m\u001b[1;33m\u001b[0m\u001b[1;33m\u001b[0m\u001b[0m\n\u001b[1;32m--> 786\u001b[1;33m             handle = open(\n\u001b[0m\u001b[0;32m    787\u001b[0m                 \u001b[0mhandle\u001b[0m\u001b[1;33m,\u001b[0m\u001b[1;33m\u001b[0m\u001b[1;33m\u001b[0m\u001b[0m\n\u001b[0;32m    788\u001b[0m                 \u001b[0mioargs\u001b[0m\u001b[1;33m.\u001b[0m\u001b[0mmode\u001b[0m\u001b[1;33m,\u001b[0m\u001b[1;33m\u001b[0m\u001b[1;33m\u001b[0m\u001b[0m\n",
      "\u001b[1;31mPermissionError\u001b[0m: [Errno 13] Permission denied: 'C:\\\\Users\\\\osama\\\\Downloads\\\\AI & IOT ASSIGNMENT FINAL\\\\CO2 Emissions_Canada_TRANSORMED.csv'"
     ]
    }
   ],
   "source": [
    "# Save the DataFrame as a CSV file\n",
    "d1.to_csv(r\"C:\\Users\\osama\\Downloads\\AI & IOT ASSIGNMENT FINAL\\CO2 Emissions_Canada_TRANSORMED.csv\", index=False)"
   ]
  },
  {
   "cell_type": "code",
   "execution_count": 70,
   "id": "ac9c749a",
   "metadata": {},
   "outputs": [
    {
     "name": "stdout",
     "output_type": "stream",
     "text": [
      "x_test shape: (3324, 6)\n",
      "y_test shape: (3324,)\n"
     ]
    }
   ],
   "source": [
    "# Importing Train Test Split Function \n",
    "#importing the train test split from sklearn library\n",
    "from sklearn.model_selection import train_test_split\n",
    "from sklearn.preprocessing import StandardScaler\n",
    "# Copying the df into another variable\n",
    "f1=d1.copy()\n",
    "# Creating X and Y out of the dataframe\n",
    "x = d1.drop(['CO2 Emissions(g/km)'],axis='columns')\n",
    "y = d1[\"CO2 Emissions(g/km)\"]\n",
    "# Split the dataset into a train set and test set\n",
    "x_train, x_test, y_train, y_test = train_test_split(x, y, test_size=0.45, random_state=48)\n",
    "\n",
    "# Create a StandardScaler object to scale data\n",
    "scaler = StandardScaler()\n",
    "\n",
    "# Fit the scaler to the training data\n",
    "scaler.fit(x_train)\n",
    "\n",
    "# Transform the training and test sets\n",
    "x_train = scaler.transform(x_train)\n",
    "x_test = scaler.transform(x_test)\n",
    "\n",
    "# Check the shapes of the input and target data\n",
    "print(f'x_test shape: {x_test.shape}')\n",
    "print(f'y_test shape: {y_test.shape}')"
   ]
  },
  {
   "cell_type": "code",
   "execution_count": 71,
   "id": "ee409745",
   "metadata": {},
   "outputs": [],
   "source": [
    "from sklearn.metrics import mean_squared_error, r2_score\n",
    "from math import sqrt"
   ]
  },
  {
   "cell_type": "code",
   "execution_count": 72,
   "id": "e52662cf",
   "metadata": {},
   "outputs": [
    {
     "name": "stdout",
     "output_type": "stream",
     "text": [
      "The Train Accuracy is: 0.8992772117231083\n",
      "The Test Accuracy is: 0.897317551808833\n"
     ]
    }
   ],
   "source": [
    "#lINEAR REGRESSION\n",
    "# Importing Model\n",
    "from sklearn.linear_model import LinearRegression\n",
    "# Storing it inside a variable\n",
    "lr = LinearRegression()\n",
    "# Fitting the model to train set\n",
    "lr.fit(x_train,y_train)\n",
    "# Checking the R2 Score on train and test set\n",
    "print(\"The Train Accuracy is:\",lr.score(x_train,y_train))\n",
    "print(\"The Test Accuracy is:\",lr.score(x_test,y_test))\n"
   ]
  },
  {
   "cell_type": "code",
   "execution_count": 73,
   "id": "6e7c8940",
   "metadata": {},
   "outputs": [
    {
     "name": "stdout",
     "output_type": "stream",
     "text": [
      "----------------------------------------\n",
      "Prediction: [312.92215496 198.90373252 212.24391534 ... 233.45496483 227.0470654\n",
      " 281.54576495]\n",
      "----------------------------------------\n",
      "Root mean squared error:  18.4946\n",
      "----------------------------------------\n",
      "Adjusted R-squared:  0.8973\n",
      "----------------------------------------\n"
     ]
    }
   ],
   "source": [
    "# Prediction model for linear regression\n",
    "pred_linreg=lr.predict(x_test)\n",
    "print('-' * 40)\n",
    "print(\"Prediction:\",lr.predict(x_test))\n",
    "print('-' * 40)\n",
    "# Calculate the root mean squared error\n",
    "rmse = np.sqrt(mean_squared_error(y_test,pred_linreg))\n",
    "# Root mean squared error\n",
    "print(f'Root mean squared error: {rmse: .4f}')\n",
    "print('-' * 40)\n",
    "# Calculate the adjusted R-squared\n",
    "adj_r2 = r2_score(y_test,pred_linreg, sample_weight=None, multioutput='uniform_average')\n",
    "# Print the adjusted R-squared\n",
    "print(f'Adjusted R-squared: {adj_r2: .4f}')\n",
    "print('-' * 40)\n",
    "\n"
   ]
  },
  {
   "cell_type": "code",
   "execution_count": 74,
   "id": "dacfcf14",
   "metadata": {},
   "outputs": [
    {
     "data": {
      "image/png": "[encoded data removed]",
      "text/plain": [
       "<Figure size 640x480 with 1 Axes>"
      ]
     },
     "metadata": {},
     "output_type": "display_data"
    }
   ],
   "source": [
    "from matplotlib import pyplot as plt\n",
    "\n",
    "y_pred = lr.predict(x_test)\n",
    "plt.scatter(y_pred,y_test)\n",
    "plt.axline((0, 0), slope=1.0705 , color='green')\n",
    "plt.show()"
   ]
  },
  {
   "cell_type": "code",
   "execution_count": 75,
   "id": "481bda0a",
   "metadata": {},
   "outputs": [
    {
     "name": "stdout",
     "output_type": "stream",
     "text": [
      "The Train Accuracy is: 0.999651565226641\n",
      "The Test Accuracy is: 0.9966924605846575\n"
     ]
    }
   ],
   "source": [
    "# DecisionTreeRegressor\n",
    "from sklearn.tree import DecisionTreeRegressor\n",
    "regressor = DecisionTreeRegressor(random_state=0)\n",
    "\n",
    "# Fit the model to the training data\n",
    "regressor.fit(x_train,y_train)\n",
    "print(\"The Train Accuracy is:\",regressor.score(x_train,y_train))\n",
    "print(\"The Test Accuracy is:\",regressor.score(x_test,y_test))\n"
   ]
  },
  {
   "cell_type": "code",
   "execution_count": 76,
   "id": "971a95a3",
   "metadata": {},
   "outputs": [
    {
     "name": "stdout",
     "output_type": "stream",
     "text": [
      "----------------------------------------\n",
      "Prediction: [326.         199.         217.66666667 ... 236.5        227.\n",
      " 300.        ]\n",
      "--------------------------------\n",
      "Root mean squared error:  3.31932\n",
      "----------------------------------------\n",
      "Adjusted R-squared:  0.99669\n",
      "----------------------------------------\n"
     ]
    }
   ],
   "source": [
    "# Prediction model for Decision tree regression\n",
    "pred_decreg=regressor.predict(x_test)\n",
    "print('-' * 40)\n",
    "print(\"Prediction:\",regressor.predict(x_test))\n",
    "print('-' * 32)\n",
    "\n",
    "\n",
    "# Calculate the root mean squared error\n",
    "rmse = np.sqrt(mean_squared_error(y_test,pred_decreg))\n",
    "\n",
    "\n",
    "# Print the root mean squared error\n",
    "print(f'Root mean squared error: {rmse: .5f}')\n",
    "print('-' * 40)\n",
    "\n",
    "\n",
    "# Calculate the adjusted R-squared\n",
    "adj_r2 = r2_score(y_test,pred_decreg, sample_weight=None, multioutput='uniform_average')\n",
    "\n",
    "\n",
    "# Print the adjusted R-squared\n",
    "print(f'Adjusted R-squared: {adj_r2: .5f}')\n",
    "print('-' * 40)\n"
   ]
  },
  {
   "cell_type": "code",
   "execution_count": 77,
   "id": "5da39667",
   "metadata": {},
   "outputs": [
    {
     "data": {
      "image/png": "[encoded data removed]",
      "text/plain": [
       "<Figure size 640x480 with 1 Axes>"
      ]
     },
     "metadata": {},
     "output_type": "display_data"
    }
   ],
   "source": [
    "from matplotlib import pyplot as plt\n",
    "\n",
    "y_pred = regressor.predict(x_test)\n",
    "plt.scatter(y_pred,y_test)\n",
    "plt.axline((0, 0), slope=1.0105 , color='green')\n",
    "plt.show()"
   ]
  },
  {
   "cell_type": "code",
   "execution_count": 78,
   "id": "c5c8e075",
   "metadata": {},
   "outputs": [
    {
     "name": "stdout",
     "output_type": "stream",
     "text": [
      "The Train Accuracy is: 0.9991586594759669\n",
      "The Test Accuracy is: 0.9961378162629718\n"
     ]
    }
   ],
   "source": [
    "#RANDOM FOREST REGRESSOR \n",
    "from sklearn.ensemble import RandomForestRegressor\n",
    "regr = RandomForestRegressor()\n",
    "\n",
    "# Fit the model to the training data\n",
    "regr.fit(x_train,y_train)\n",
    "\n",
    "#Print the result data\n",
    "print(\"The Train Accuracy is:\",regr.score(x_train,y_train))\n",
    "print(\"The Test Accuracy is:\",regr.score(x_test,y_test))"
   ]
  },
  {
   "cell_type": "code",
   "execution_count": 79,
   "id": "122373da",
   "metadata": {},
   "outputs": [
    {
     "name": "stdout",
     "output_type": "stream",
     "text": [
      "------------------------------------------\n",
      "Prediction: [325.94285714 198.41688095 217.64846825 ... 236.21       226.78664286\n",
      " 300.29      ]\n",
      "------------------------------------------\n",
      "Root mean squared error:  3.58685\n",
      "--------------------------------\n",
      "Adjusted R-squared:  0.99614\n",
      "--------------------------------\n"
     ]
    }
   ],
   "source": [
    "# Prediction model for RandomForestRegressor\n",
    "pred_ranforreg=regr.predict(x_test)\n",
    "print('-' * 42)\n",
    "print(\"Prediction:\",regr.predict(x_test))\n",
    "print('-' * 42)\n",
    "\n",
    "\n",
    "# Calculate the root mean squared error\n",
    "rmse = np.sqrt(mean_squared_error(y_test,pred_ranforreg))\n",
    "\n",
    "\n",
    "# Print the root mean squared error\n",
    "print(f'Root mean squared error: {rmse: .5f}')\n",
    "print('-' * 32)\n",
    "\n",
    "\n",
    "# Calculate the adjusted R-squared\n",
    "adj_r2 = r2_score(y_test,pred_ranforreg, sample_weight=None, multioutput='uniform_average')\n",
    "\n",
    "\n",
    "# Print the adjusted R-squared\n",
    "print(f'Adjusted R-squared: {adj_r2: .5f}')\n",
    "print('-' * 32)\n"
   ]
  },
  {
   "cell_type": "code",
   "execution_count": 80,
   "id": "71581178",
   "metadata": {},
   "outputs": [
    {
     "data": {
      "image/png": "[encoded data removed]",
      "text/plain": [
       "<Figure size 640x480 with 1 Axes>"
      ]
     },
     "metadata": {},
     "output_type": "display_data"
    }
   ],
   "source": [
    "from matplotlib import pyplot as plt\n",
    "\n",
    "y_pred = regr.predict(x_test)\n",
    "plt.scatter(y_pred,y_test)\n",
    "plt.axline((0, 0), slope=1.0105 , color='green')\n",
    "plt.show()"
   ]
  },
  {
   "cell_type": "code",
   "execution_count": 81,
   "id": "498d315b",
   "metadata": {},
   "outputs": [
    {
     "name": "stdout",
     "output_type": "stream",
     "text": [
      "The Train Accuracy is: 0.9969566751205416\n",
      "The Test Accuracy is: 0.9952757337920818\n"
     ]
    }
   ],
   "source": [
    "\n",
    "from sklearn import neighbors\n",
    "knn = neighbors.KNeighborsRegressor()\n",
    "\n",
    "# Fit the model to the training data\n",
    "knn.fit(x_train,y_train)\n",
    "\n",
    "# Print the results \n",
    "print(\"The Train Accuracy is:\",knn.score(x_train,y_train))\n",
    "print(\"The Test Accuracy is:\",knn.score(x_test,y_test))\n"
   ]
  },
  {
   "cell_type": "code",
   "execution_count": 82,
   "id": "74aaba51",
   "metadata": {},
   "outputs": [
    {
     "name": "stdout",
     "output_type": "stream",
     "text": [
      "Prediction: [325.6 199.2 216.8 ... 238.8 227.4 299.8]\n",
      "----------------------------------------\n",
      "Root mean squared error: 3.9670\n",
      "----------------------------------------\n",
      "Adjusted R-squared:  0.9953\n",
      "----------------------------------------\n"
     ]
    }
   ],
   "source": [
    "# Prediction model for KNeighborsRegressor\n",
    "pred_kneigh=knn.predict(x_test)\n",
    "print(\"Prediction:\",knn.predict(x_test))\n",
    "print('-' * 40)\n",
    "\n",
    "\n",
    "# Calculate the root mean squared error\n",
    "rmse = np.sqrt(mean_squared_error(y_test,pred_kneigh))\n",
    "\n",
    "\n",
    "# Print the root mean squared error\n",
    "print(f'Root mean squared error: {rmse:.4f}')\n",
    "print('-' * 40)\n",
    "\n",
    "\n",
    "# Calculate the adjusted R-squared\n",
    "adj_r2 = r2_score(y_test,pred_kneigh, sample_weight=None, multioutput='uniform_average')\n",
    "# Print the adjusted R-squared\n",
    "\n",
    "\n",
    "print(f'Adjusted R-squared: {adj_r2: .4f}')\n",
    "print('-' * 40)\n"
   ]
  },
  {
   "cell_type": "code",
   "execution_count": 83,
   "id": "835649ae",
   "metadata": {},
   "outputs": [
    {
     "data": {
      "image/png": "[encoded data removed]",
      "text/plain": [
       "<Figure size 640x480 with 1 Axes>"
      ]
     },
     "metadata": {},
     "output_type": "display_data"
    }
   ],
   "source": [
    "from matplotlib import pyplot as plt\n",
    "\n",
    "y_pred = knn.predict(x_test)\n",
    "plt.scatter(y_pred,y_test)\n",
    "plt.axline((0, 0), slope=1.0105 , color='green')\n",
    "plt.show()"
   ]
  },
  {
   "cell_type": "code",
   "execution_count": 84,
   "id": "dc8d351a",
   "metadata": {},
   "outputs": [
    {
     "name": "stdout",
     "output_type": "stream",
     "text": [
      "The predicted points are [183.5984 317.916 ] g/km\n"
     ]
    }
   ],
   "source": [
    "#Predict the CO2 emissions of two data points using Linear Regression model:\n",
    "\n",
    "\n",
    "# Define the two data points to predict using the numpy array function\n",
    "data_pts = np.array([[1, 2, 3, 4, 5, 6],[7, 8, 9, 10, 11, 12]])\n",
    "\n",
    "# Define the column names of independant variables \n",
    "column_names = ['Engine Size(L)', 'Cylinders', 'Fuel Type',\n",
    "                'Fuel Consumption City (L/100 km)', \n",
    "                'Fuel Consumption Hwy (L/100 km)',\n",
    "                'Fuel Consumption Comb (L/100 km)']\n",
    "\n",
    "# Load the data into a Pandas dataframe using panda library \n",
    "dt_2 = pd.DataFrame(data_pts, columns=column_names)\n",
    "\n",
    "# Fit the StandardScaler on the data\n",
    "scaler = StandardScaler()\n",
    "scaler.fit(dt_2)\n",
    "\n",
    "# Transform the data points using the scaler\n",
    "scale_dta_pts = scaler.transform(dt_2)\n",
    "\n",
    "# Make predictions on the data points using the predicted function from Random forest regressor\n",
    "predicted = np.around(lr.predict(scale_dta_pts),4)\n",
    "\n",
    "# Print the predicted points \n",
    "print('The predicted points are',predicted,\"g/km\")"
   ]
  },
  {
   "cell_type": "code",
   "execution_count": 85,
   "id": "790873a7",
   "metadata": {},
   "outputs": [
    {
     "name": "stdout",
     "output_type": "stream",
     "text": [
      "The predicted points are [186.9    321.5983] g/km\n"
     ]
    }
   ],
   "source": [
    "#Predict the CO2 emissions of two data points using Random Forest model:\n",
    "\n",
    "\n",
    "# Define the two data points to predict using the numpy array function\n",
    "data_pts = np.array([[1, 2, 3, 4, 5, 6],[7, 8, 9, 10, 11, 12]])\n",
    "\n",
    "# Define the column names of independant variables \n",
    "column_names = ['Engine Size(L)', 'Cylinders', 'Fuel Type',\n",
    "                'Fuel Consumption City (L/100 km)', \n",
    "                'Fuel Consumption Hwy (L/100 km)',\n",
    "                'Fuel Consumption Comb (L/100 km)']\n",
    "\n",
    "# Load the data into a Pandas dataframe using panda library \n",
    "dt_2 = pd.DataFrame(data_pts, columns=column_names)\n",
    "\n",
    "# Fit the StandardScaler on the data\n",
    "scaler = StandardScaler()\n",
    "scaler.fit(dt_2)\n",
    "\n",
    "# Transform the data points using the scaler\n",
    "scale_dta_pts = scaler.transform(dt_2)\n",
    "\n",
    "# Make predictions on the data points using the predicted function from Random forest regressor\n",
    "predicted = np.around(regr.predict(scale_dta_pts),4)\n",
    "\n",
    "# Print the predicted points \n",
    "print('The predicted points are',predicted,\"g/km\")"
   ]
  },
  {
   "cell_type": "code",
   "execution_count": null,
   "id": "37db6d9f",
   "metadata": {},
   "outputs": [],
   "source": []
  },
  {
   "cell_type": "code",
   "execution_count": null,
   "id": "bc844edf",
   "metadata": {},
   "outputs": [],
   "source": []
  },
  {
   "cell_type": "code",
   "execution_count": null,
   "id": "e108d4a5",
   "metadata": {},
   "outputs": [],
   "source": []
  }
 ],
 "metadata": {
  "kernelspec": {
   "display_name": "Python 3 (ipykernel)",
   "language": "python",
   "name": "python3"
  },
  "language_info": {
   "codemirror_mode": {
    "name": "ipython",
    "version": 3
   },
   "file_extension": ".py",
   "mimetype": "text/x-python",
   "name": "python",
   "nbconvert_exporter": "python",
   "pygments_lexer": "ipython3",
   "version": "3.9.13"
  }
 },
 "nbformat": 4,
 "nbformat_minor": 5
}
